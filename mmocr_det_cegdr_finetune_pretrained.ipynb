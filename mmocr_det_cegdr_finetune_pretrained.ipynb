{
  "cells": [
    {
      "cell_type": "markdown",
      "metadata": {
        "vscode": {
          "languageId": "raw"
        }
      },
      "source": [
        "# Text Detection Training\n"
      ]
    },
    {
      "cell_type": "code",
      "execution_count": null,
      "metadata": {},
      "outputs": [],
      "source": [
        "ROOT_CONFIG_FOLDER = 'configs/textdet'\n",
        "CONFIG_FOLDER_TO_CKPT = {\n",
        "    'dbnetpp_custom': 'https://download.openmmlab.com/mmocr/textdet/dbnetpp/dbnetpp_resnet50-dcnv2_fpnc_1200e_icdar2015/dbnetpp_resnet50-dcnv2_fpnc_1200e_icdar2015_20220829_230108-f289bd20.pth',\n",
        "    'dbnet_custom': 'https://download.openmmlab.com/mmocr/textdet/dbnet/dbnet_resnet50-dcnv2_fpnc_1200e_icdar2015/dbnet_resnet50-dcnv2_fpnc_1200e_icdar2015_20220825_221614-7c0e94f2.pth',\n",
        "    'psenet_custom': 'https://download.openmmlab.com/mmocr/textdet/psenet/psenet_resnet50_fpnf_600e_icdar2015/psenet_resnet50_fpnf_600e_icdar2015_20220825_221459-7fe6b9cf.pth',\n",
        "    'panet_custom': 'https://download.openmmlab.com/mmocr/textdet/panet/panet_resnet50_fpem-ffm_600e_icdar2015/panet_resnet50_fpem-ffm_600e_icdar2015_20220825_221459-7a8f4a5d.pth',\n",
        "    'textsnake_custom': 'https://download.openmmlab.com/mmocr/textdet/textsnake/textsnake_resnet50_fpn-unet_1200e_ctw1500/textsnake_resnet50_fpn-unet_1200e_ctw1500_20220825_221459-c0b8c681.pth',\n",
        "    'fcenet_custom': 'https://download.openmmlab.com/mmocr/textdet/fcenet/fcenet_resnet50-dcnv2_fpn_1500e_icdar2015/fcenet_resnet50-dcnv2_fpn_1500e_icdar2015_20220825_221510-4d705392.pth',\n",
        "}\n"
      ]
    },
    {
      "cell_type": "code",
      "execution_count": null,
      "metadata": {},
      "outputs": [],
      "source": [
        "# #@title Train single model\n",
        "\n",
        "# from pathlib import Path\n",
        "# from mmengine.runner import Runner\n",
        "# import time\n",
        "# from mmengine import Config\n",
        "\n",
        "# %cd ~/bonting-identification\n",
        "\n",
        "# model_config = 'configs/textdet/dbnetpp_custom/dbnetpp_custom_v0.py'\n",
        "# # model_config = 'configs/textdet/dbnet_custom/dbnet_cegdr.py'\n",
        "# # model_config = 'configs/textdet/psenet_custom/psenet_cegdr.py'\n",
        "# # model_config = 'configs/textdet/panet_custom/panet_cegdr.py'\n",
        "# # model_config = 'configs/textdet/textsnake_custom/textsnake_cegdr.py'\n",
        "# # model_config = 'configs/textdet/fcenet_custom/fcenet_cegdr.py'\n",
        "\n",
        "# cfg = Config.fromfile(Path(ROOT_CONFIG_FOLDER) / model_config)\n",
        "# cfg['load_from'] = CONFIG_FOLDER_TO_CKPT[Path(model_config).parent.name]\n",
        "# cfg.visualizer.name = f'{time.localtime()}'\n",
        "\n",
        "# # Optionally, smoke test on 1 epoch\n",
        "# # cfg.train_cfg['max_epochs'] = 1\n",
        "\n",
        "# runner = Runner.from_cfg(cfg)\n",
        "# result = runner.train()\n"
      ]
    },
    {
      "cell_type": "code",
      "execution_count": null,
      "metadata": {},
      "outputs": [],
      "source": [
        "# RESULTS of model comparison on CEGD-R\n",
        "\n",
        "# DBNet++ finetuned: cegdr/hmean: ???\n",
        "# DBNet finetuned: cegdr/hmean: ???\n",
        "# PSENet finetuned: cegdr/hmean: ???"
      ]
    },
    {
      "cell_type": "code",
      "execution_count": null,
      "metadata": {},
      "outputs": [],
      "source": [
        "# !rm -rf work_dirs/*\n"
      ]
    },
    {
      "cell_type": "code",
      "execution_count": null,
      "metadata": {},
      "outputs": [],
      "source": [
        "#@title Train all models\n",
        "\n",
        "from mmengine.runner import Runner\n",
        "import time\n",
        "from mmengine import Config\n",
        "import pandas as pd\n",
        "from pathlib import Path\n",
        "\n",
        "%cd ~/bonting-identification\n",
        "\n",
        "results = []\n",
        "model_configs = []\n",
        "ckpts = []\n",
        "\n",
        "for config_folder, model_url in list(CONFIG_FOLDER_TO_CKPT.items())[:1]:\n",
        "    # Construct full path to config folder\n",
        "    config_folder_path = Path(ROOT_CONFIG_FOLDER) / config_folder\n",
        "    \n",
        "    for model_config in [\n",
        "        p for p in config_folder_path.glob('*.py')\n",
        "        if not p.name.startswith('_base')\n",
        "    ]:\n",
        "        cfg = Config.fromfile(model_config)\n",
        "        cfg['load_from'] = model_url\n",
        "        cfg.visualizer.name = f'{time.localtime()}'\n",
        "\n",
        "        cfg.train_cfg['max_epochs'] = 1\n",
        "\n",
        "        runner = Runner.from_cfg(cfg)\n",
        "        result = runner.train()\n",
        "\n",
        "        results.append(result)\n",
        "        model_configs.append(Path(model_config).name.rstrip('.py'))\n",
        "        ckpts.append(Path(model_url).parts[-2])\n"
      ]
    },
    {
      "cell_type": "code",
      "execution_count": null,
      "metadata": {},
      "outputs": [],
      "source": [
        "results_df = pd.DataFrame(results)\n",
        "results_df.insert(0, 'model_config', model_configs)\n",
        "results_df.insert(1, 'ckpt', ckpts)\n",
        "results_df = results_df.set_index(['model_config', 'ckpt'])\n",
        "results_df.sort_values('cegdr/hmean', ascending=False, inplace=True)\n",
        "results_df\n"
      ]
    },
    {
      "cell_type": "code",
      "execution_count": null,
      "metadata": {},
      "outputs": [],
      "source": [
        "save_path = Path('reports/eval/cegdr/textdet/mmocr_finetuned_det_results.csv')\n",
        "save_path.parent.mkdir(parents=True, exist_ok=True)\n",
        "print(f'Saving results to:\\n{save_path}')\n",
        "results_df.to_csv(save_path, index=True, header=True)\n"
      ]
    }
  ],
  "metadata": {
    "language_info": {
      "name": "python"
    }
  },
  "nbformat": 4,
  "nbformat_minor": 2
}
