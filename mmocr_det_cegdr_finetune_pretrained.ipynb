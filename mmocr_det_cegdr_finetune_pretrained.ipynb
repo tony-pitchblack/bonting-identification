{
  "cells": [
    {
      "cell_type": "code",
      "execution_count": null,
      "metadata": {
        "tags": [
          "parameters"
        ]
      },
      "outputs": [],
      "source": [
        "SMOKE_TEST = True\n",
        "# SMOKE_TEST = False\n",
        "\n",
        "# Number of models to train - None means all models (ignored in smoke test mode)\n",
        "NUM_MODELS = None\n",
        "\n",
        "SKIP_TRAINED = True"
      ]
    },
    {
      "cell_type": "markdown",
      "metadata": {
        "vscode": {
          "languageId": "raw"
        }
      },
      "source": [
        "# Text Detection Training\n"
      ]
    },
    {
      "cell_type": "code",
      "execution_count": 2,
      "metadata": {},
      "outputs": [],
      "source": [
        "import warnings\n",
        "\n",
        "# Ignore all UserWarnings emitted from any submodule of torch\n",
        "warnings.filterwarnings(\n",
        "    \"ignore\",\n",
        "    category=UserWarning,\n",
        "    module=r\"torch.*\"\n",
        ")\n",
        "# Ignore all UserWarnings emitted from any submodule of torch\n",
        "warnings.filterwarnings(\n",
        "    \"ignore\",\n",
        "    category=UserWarning,\n",
        "    module=r\"mmcv.*\"\n",
        ")"
      ]
    },
    {
      "cell_type": "code",
      "execution_count": null,
      "metadata": {},
      "outputs": [],
      "source": [
        "ROOT_CONFIG_FOLDER = 'configs/textdet'\n",
        "CONFIG_FOLDER_TO_CKPT = {\n",
        "    \"dbnetpp_custom\": \"https://download.openmmlab.com/mmocr/textdet/dbnetpp/dbnetpp_resnet50-oclip_fpnc_1200e_icdar2015/dbnetpp_resnet50-oclip_fpnc_1200e_icdar2015_20221101_124139-4ecb39ac.pth\",\n",
        "    \"dbnet_custom\": \"https://download.openmmlab.com/mmocr/textdet/dbnet/dbnet_resnet50-oclip_1200e_icdar2015/dbnet_resnet50-oclip_1200e_icdar2015_20221102_115917-bde8c87a.pth\",\n",
        "    \"psenet_custom\": \"https://download.openmmlab.com/mmocr/textdet/psenet/psenet_resnet50-oclip_fpnf_600e_icdar2015/psenet_resnet50-oclip_fpnf_600e_icdar2015_20221101_131357-2bdca389.pth\",\n",
        "    \"panet_custom\": \"https://download.openmmlab.com/mmocr/textdet/panet/panet_resnet18_fpem-ffm_600e_icdar2015/panet_resnet18_fpem-ffm_600e_icdar2015_20220826_144817-be2acdb4.pth\",\n",
        "    \"textsnake_custom\": \"https://download.openmmlab.com/mmocr/textdet/textsnake/textsnake_resnet50-oclip_fpn-unet_1200e_ctw1500/textsnake_resnet50-oclip_fpn-unet_1200e_ctw1500_20221101_134814-a216e5b2.pth\",\n",
        "    \"fcenet_custom\": \"https://download.openmmlab.com/mmocr/textdet/fcenet/fcenet_resnet50-oclip_fpn_1500e_icdar2015/fcenet_resnet50-oclip_fpn_1500e_icdar2015_20221101_150145-5a6fc412.pth\"\n",
        "}"
      ]
    },
    {
      "cell_type": "code",
      "execution_count": null,
      "metadata": {},
      "outputs": [],
      "source": [
        "#@title Train single model\n",
        "\n",
        "from pathlib import Path\n",
        "from mmengine.runner import Runner\n",
        "import time\n",
        "from mmengine import Config\n",
        "from dotenv import load_dotenv\n",
        "\n",
        "if SMOKE_TEST:\n",
        "    load_dotenv() # NOTE: make sure to reload notebook when changing .env to use new env variables\n",
        "    %cd ~/bonting-identification\n",
        "\n",
        "    # model_config = 'dbnetpp_custom/dbnetpp_cegdr.py'\n",
        "    # model_config = 'dbnet_custom/dbnet_cegdr.py'\n",
        "    # model_config = 'psenet_custom/psenet_cegdr.py'\n",
        "    model_config = 'panet_custom/panet_cegdr.py'\n",
        "    # model_config = 'textsnake_custom/textsnake_cegdr.py'\n",
        "    # model_config = 'fcenet_custom/fcenet_cegdr.py'\n",
        "\n",
        "    cfg = Config.fromfile(Path(ROOT_CONFIG_FOLDER) / model_config)\n",
        "    cfg['load_from'] = CONFIG_FOLDER_TO_CKPT[Path(model_config).parent.name]\n",
        "    cfg.visualizer.name = f'{time.localtime()}'\n",
        "\n",
        "    # Optionally, smoke test on 1 epoch\n",
        "    cfg.train_cfg['max_epochs'] = 1\n",
        "\n",
        "    runner = Runner.from_cfg(cfg)\n",
        "    result = runner.train()"
      ]
    },
    {
      "cell_type": "code",
      "execution_count": null,
      "metadata": {},
      "outputs": [],
      "source": [
        "# !rm -rf work_dirs/*\n"
      ]
    },
    {
      "cell_type": "code",
      "execution_count": null,
      "metadata": {},
      "outputs": [],
      "source": [
        "#@title Train all models\n",
        "\n",
        "import os\n",
        "from mmengine.runner import Runner\n",
        "import time\n",
        "from mmengine import Config\n",
        "import pandas as pd\n",
        "from pathlib import Path\n",
        "from dotenv import load_dotenv\n",
        "\n",
        "if not SMOKE_TEST:\n",
        "    load_dotenv() # NOTE: make sure to reload notebook when changing .env to use new env variables\n",
        "    %cd ~/bonting-identification\n",
        "\n",
        "    results = []\n",
        "    model_configs = []\n",
        "    ckpts = []\n",
        "\n",
        "    # Determine how many models to train\n",
        "    if NUM_MODELS is None:\n",
        "        # Use all models when NUM_MODELS is None\n",
        "        models_to_train = len(CONFIG_FOLDER_TO_CKPT)\n",
        "    else:\n",
        "        # Use specified number of models\n",
        "        models_to_train = min(NUM_MODELS, len(CONFIG_FOLDER_TO_CKPT))\n",
        "    \n",
        "    for config_folder, model_url in list(CONFIG_FOLDER_TO_CKPT.items())[:models_to_train]:\n",
        "        # Construct full path to config folder\n",
        "        config_folder_path = Path(ROOT_CONFIG_FOLDER) / config_folder\n",
        "\n",
        "        for model_config in [\n",
        "            p for p in config_folder_path.glob('*.py')\n",
        "            if not p.name.startswith('_base')\n",
        "        ]:\n",
        "            cfg = Config.fromfile(model_config)\n",
        "            cfg['load_from'] = model_url\n",
        "            cfg.visualizer.name = f'{time.localtime()}'\n",
        "\n",
        "            # cfg.train_cfg['max_epochs'] = 1\n",
        "\n",
        "            runner = Runner.from_cfg(cfg)\n",
        "            result = runner.train()\n",
        "\n",
        "            results.append(result)\n",
        "            model_configs.append(Path(model_config).name.rstrip('.py'))\n",
        "            ckpts.append(Path(model_url).parts[-2])\n"
      ]
    },
    {
      "cell_type": "code",
      "execution_count": null,
      "metadata": {},
      "outputs": [],
      "source": [
        "# results_df = pd.DataFrame(results)\n",
        "# results_df.insert(0, 'model_config', model_configs)\n",
        "# results_df.insert(1, 'ckpt', ckpts)\n",
        "# results_df = results_df.set_index(['model_config', 'ckpt'])\n",
        "# results_df.sort_values('cegdr/hmean', ascending=False, inplace=True)\n",
        "# results_df\n"
      ]
    },
    {
      "cell_type": "code",
      "execution_count": null,
      "metadata": {},
      "outputs": [],
      "source": [
        "# save_path = Path('reports/eval/cegdr/textdet/mmocr_finetuned_det_results.csv')\n",
        "# save_path.parent.mkdir(parents=True, exist_ok=True)\n",
        "# print(f'Saving results to:\\n{save_path}')\n",
        "# results_df.to_csv(save_path, index=True, header=True)\n"
      ]
    }
  ],
  "metadata": {
    "kernelspec": {
      "display_name": "Python 3",
      "language": "python",
      "name": "python3"
    },
    "language_info": {
      "codemirror_mode": {
        "name": "ipython",
        "version": 3
      },
      "file_extension": ".py",
      "mimetype": "text/x-python",
      "name": "python",
      "nbconvert_exporter": "python",
      "pygments_lexer": "ipython3",
      "version": "3.11.13"
    }
  },
  "nbformat": 4,
  "nbformat_minor": 2
}
